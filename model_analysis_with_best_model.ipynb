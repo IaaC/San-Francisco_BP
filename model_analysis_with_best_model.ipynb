{
 "cells": [
  {
   "cell_type": "markdown",
   "id": "8a620764",
   "metadata": {},
   "source": [
    "# 1. Packages to Import"
   ]
  },
  {
   "cell_type": "code",
   "execution_count": null,
   "id": "346f2e48",
   "metadata": {},
   "outputs": [],
   "source": [
    "\n",
    "import pandas as pd\n",
    "import numpy as np\n",
    "from sklearn.model_selection import train_test_split\n",
    "from sklearn.preprocessing import LabelEncoder, PolynomialFeatures\n",
    "from sklearn.linear_model import LinearRegression, Ridge, Lasso\n",
    "from sklearn.tree import DecisionTreeRegressor\n",
    "from sklearn.metrics import mean_squared_error, r2_score\n",
    "import matplotlib.pyplot as plt\n",
    "from itertools import combinations\n",
    "\n",
    "print(\"Packages imported successfully!\")\n"
   ]
  },
  {
   "cell_type": "markdown",
   "id": "3691c703",
   "metadata": {},
   "source": [
    "# 2. Load Dataset"
   ]
  },
  {
   "cell_type": "code",
   "execution_count": null,
   "id": "4ed11d58",
   "metadata": {},
   "outputs": [],
   "source": [
    "\n",
    "file_path = r'D:/IAAC/Classes/AI Programming for Design/Submission/Building_Permits_S.csv'\n",
    "df = pd.read_csv(file_path, low_memory=False)\n",
    "\n",
    "print(\"Dataset loaded successfully!\")\n",
    "print(df.head())\n"
   ]
  },
  {
   "cell_type": "markdown",
   "id": "c85c146b",
   "metadata": {},
   "source": [
    "# 3. Preprocessing"
   ]
  },
  {
   "cell_type": "code",
   "execution_count": null,
   "id": "be4df8cf",
   "metadata": {},
   "outputs": [],
   "source": [
    "\n",
    "df['Days_to_Issue'] = pd.to_numeric(df['Days_to_Issue'], errors='coerce')\n",
    "df = df.dropna(subset=['Days_to_Issue'])\n",
    "features = ['Supervisor District', 'Zipcode', 'Estimated Cost', 'Revised Cost', 'Proposed Units']\n",
    "df = df.dropna(subset=features)\n",
    "\n",
    "for col in features:\n",
    "    if df[col].dtype == 'object':\n",
    "        le = LabelEncoder()\n",
    "        df[col] = le.fit_transform(df[col].astype(str))\n",
    "\n",
    "print(\"Preprocessing completed successfully!\")\n",
    "print(df.head())\n"
   ]
  },
  {
   "cell_type": "markdown",
   "id": "8c6cedee",
   "metadata": {},
   "source": [
    "# 4. Model Evaluation"
   ]
  },
  {
   "cell_type": "code",
   "execution_count": null,
   "id": "de737e24",
   "metadata": {},
   "outputs": [],
   "source": [
    "\n",
    "def evaluate_model(model, X_test, y_test):\n",
    "    predictions = model.predict(X_test)\n",
    "    mse = mean_squared_error(y_test, predictions)\n",
    "    r2 = r2_score(y_test, predictions)\n",
    "    return mse, r2\n",
    "\n",
    "print(\"Model evaluation function defined successfully!\")\n"
   ]
  },
  {
   "cell_type": "markdown",
   "id": "189a72b3",
   "metadata": {},
   "source": [
    "# 5. Applying Models"
   ]
  },
  {
   "cell_type": "code",
   "execution_count": null,
   "id": "efea0a9d",
   "metadata": {},
   "outputs": [],
   "source": [
    "\n",
    "all_results = []\n",
    "for r in range(1, len(features) + 1):\n",
    "    for combo in combinations(features, r):\n",
    "        X = df[list(combo)]\n",
    "        y = df['Days_to_Issue']\n",
    "        X_train, X_test, y_train, y_test = train_test_split(X, y, test_size=0.2, random_state=42)\n",
    "\n",
    "        lin_reg = LinearRegression()\n",
    "        lin_reg.fit(X_train, y_train)\n",
    "        lin_mse, lin_r2 = evaluate_model(lin_reg, X_test, y_test)\n",
    "        all_results.append(['Linear Regression', combo, lin_mse, lin_r2])\n",
    "\n",
    "        ridge_reg = Ridge(alpha=1.0)\n",
    "        ridge_reg.fit(X_train, y_train)\n",
    "        ridge_mse, ridge_r2 = evaluate_model(ridge_reg, X_test, y_test)\n",
    "        all_results.append(['Ridge Regression', combo, ridge_mse, ridge_r2])\n",
    "\n",
    "        lasso_reg = Lasso(alpha=0.1)\n",
    "        lasso_reg.fit(X_train, y_train)\n",
    "        lasso_mse, lasso_r2 = evaluate_model(lasso_reg, X_test, y_test)\n",
    "        all_results.append(['Lasso Regression', combo, lasso_mse, lasso_r2])\n",
    "\n",
    "        poly = PolynomialFeatures(degree=2)\n",
    "        X_train_poly = poly.fit_transform(X_train)\n",
    "        X_test_poly = poly.transform(X_test)\n",
    "        poly_reg = LinearRegression()\n",
    "        poly_reg.fit(X_train_poly, y_train)\n",
    "        poly_mse, poly_r2 = evaluate_model(poly_reg, X_test_poly, y_test)\n",
    "        all_results.append(['Polynomial Regression', combo, poly_mse, poly_r2])\n",
    "\n",
    "        tree_reg = DecisionTreeRegressor(max_depth=5, random_state=42)\n",
    "        tree_reg.fit(X_train, y_train)\n",
    "        tree_mse, tree_r2 = evaluate_model(tree_reg, X_test, y_test)\n",
    "        all_results.append(['Decision Tree', combo, tree_mse, tree_r2])\n",
    "\n",
    "print(\"Models applied successfully!\")\n"
   ]
  },
  {
   "cell_type": "markdown",
   "id": "08e1e817",
   "metadata": {},
   "source": [
    "# 6. Model Evaluation Results"
   ]
  },
  {
   "cell_type": "code",
   "execution_count": null,
   "id": "a8d51bc5",
   "metadata": {},
   "outputs": [],
   "source": [
    "\n",
    "results_df = pd.DataFrame(all_results, columns=['Model', 'Features', 'MSE', 'R2'])\n",
    "best_results_per_model = results_df.loc[results_df.groupby('Model')['R2'].idxmax()]\n",
    "pd.set_option('display.max_colwidth', None)\n",
    "\n",
    "print(\"Best Results per Model:\")\n",
    "print(best_results_per_model)\n",
    "\n",
    "# Print the best model and feature combination\n",
    "best_overall = best_results_per_model.loc[best_results_per_model['R2'].idxmax()]\n",
    "print(f\"Best Overall Model: {best_overall['Model']}\")\n",
    "print(f\"Best Feature Combination: {list(best_overall['Features'])}\")\n",
    "print(f\"R� Score: {best_overall['R2']}\")\n"
   ]
  },
  {
   "cell_type": "markdown",
   "id": "f7a51c36",
   "metadata": {},
   "source": [
    "# 7. Visualization"
   ]
  },
  {
   "cell_type": "code",
   "execution_count": null,
   "id": "bb5efd4b",
   "metadata": {},
   "outputs": [],
   "source": [
    "\n",
    "top_results = results_df.sort_values(by='R2', ascending=False).head(5)\n",
    "plt.figure(figsize=(12, 8))\n",
    "plt.barh([f\"{row['Model']} {list(row['Features'])}\" for _, row in top_results.iterrows()], top_results['R2'], color='teal')\n",
    "plt.xlabel('R� Score')\n",
    "plt.ylabel('Model and Features')\n",
    "plt.title('Top 5 Model Combinations - R� Scores')\n",
    "plt.tight_layout()\n",
    "plt.show()\n",
    "\n",
    "print(\"Visualization completed successfully!\")\n"
   ]
  }
 ],
 "metadata": {},
 "nbformat": 4,
 "nbformat_minor": 5
}
